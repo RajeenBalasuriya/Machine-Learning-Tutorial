{
 "cells": [
  {
   "cell_type": "code",
   "execution_count": 2,
   "id": "49567a4f-a809-4e6d-928e-7fba042927bc",
   "metadata": {},
   "outputs": [],
   "source": [
    "import numpy as np\n"
   ]
  },
  {
   "cell_type": "code",
   "execution_count": 4,
   "id": "58c4ce0a-0545-4db2-a333-caa5d7255768",
   "metadata": {},
   "outputs": [],
   "source": [
    "data = np.array([[26,50000],[29,70000],[34,55000],[31,40000]])"
   ]
  },
  {
   "cell_type": "code",
   "execution_count": 5,
   "id": "f96cc633-8a5d-49e2-a306-f69fe9fb447b",
   "metadata": {},
   "outputs": [
    {
     "data": {
      "text/plain": [
       "array([[   26, 50000],\n",
       "       [   29, 70000],\n",
       "       [   34, 55000],\n",
       "       [   31, 40000]])"
      ]
     },
     "execution_count": 5,
     "metadata": {},
     "output_type": "execute_result"
    }
   ],
   "source": [
    "data"
   ]
  },
  {
   "cell_type": "markdown",
   "id": "04f89652-5442-4ec3-b201-8b90d1109c6e",
   "metadata": {},
   "source": [
    "__NORMALIZATION__\n",
    "\n",
    "\n"
   ]
  },
  {
   "cell_type": "code",
   "execution_count": 7,
   "id": "bf3dc479-60e0-493b-93ce-83d26732e09b",
   "metadata": {},
   "outputs": [
    {
     "data": {
      "text/plain": [
       "array([[0.        , 0.33333333],\n",
       "       [0.375     , 1.        ],\n",
       "       [1.        , 0.5       ],\n",
       "       [0.625     , 0.        ]])"
      ]
     },
     "execution_count": 7,
     "metadata": {},
     "output_type": "execute_result"
    }
   ],
   "source": [
    "from sklearn.preprocessing import MinMaxScaler\n",
    "scaler = MinMaxScaler()\n",
    "scaled_data =scaler.fit_transform(data)\n",
    "scaled_data\n"
   ]
  },
  {
   "cell_type": "markdown",
   "id": "773d02a1-b18d-4bcc-8a48-767d151fa7a9",
   "metadata": {},
   "source": [
    "__STANDERDIZATION__"
   ]
  },
  {
   "cell_type": "code",
   "execution_count": 8,
   "id": "0dafe693-52ea-4704-a67b-3a1c1fedfd95",
   "metadata": {},
   "outputs": [
    {
     "data": {
      "text/plain": [
       "array([[-1.37198868, -0.34641016],\n",
       "       [-0.34299717,  1.5011107 ],\n",
       "       [ 1.37198868,  0.11547005],\n",
       "       [ 0.34299717, -1.27017059]])"
      ]
     },
     "execution_count": 8,
     "metadata": {},
     "output_type": "execute_result"
    }
   ],
   "source": [
    "from sklearn.preprocessing import StandardScaler\n",
    "scaler =StandardScaler()\n",
    "scaled_data = scaler.fit_transform(data)\n",
    "scaled_data"
   ]
  },
  {
   "cell_type": "code",
   "execution_count": null,
   "id": "ce47a0e7-2cbc-425a-a6dd-2566ba0cf6c8",
   "metadata": {},
   "outputs": [],
   "source": []
  }
 ],
 "metadata": {
  "kernelspec": {
   "display_name": "Python [conda env:base] *",
   "language": "python",
   "name": "conda-base-py"
  },
  "language_info": {
   "codemirror_mode": {
    "name": "ipython",
    "version": 3
   },
   "file_extension": ".py",
   "mimetype": "text/x-python",
   "name": "python",
   "nbconvert_exporter": "python",
   "pygments_lexer": "ipython3",
   "version": "3.12.7"
  }
 },
 "nbformat": 4,
 "nbformat_minor": 5
}

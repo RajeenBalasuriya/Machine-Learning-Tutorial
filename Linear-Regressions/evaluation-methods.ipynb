{
 "cells": [
  {
   "cell_type": "code",
   "execution_count": 3,
   "id": "6596a1c8-2387-471b-821e-a28398224424",
   "metadata": {},
   "outputs": [],
   "source": [
    "import numpy as np\n",
    "import pandas as pd"
   ]
  },
  {
   "cell_type": "markdown",
   "id": "5fd44759-5b29-4772-8af4-dc4d3f6c72fd",
   "metadata": {},
   "source": [
    "Defining a data frame with number of hours studied and socres"
   ]
  },
  {
   "cell_type": "code",
   "execution_count": 4,
   "id": "e983feaf-c335-4b88-aa51-56b5297a6dc1",
   "metadata": {},
   "outputs": [],
   "source": [
    "df= pd.DataFrame({'hours':[8,11,9,5,7.5,9.5,10,7,9,9.5,8,10.5,9,6.5,9],\n",
    "                   'score':[56,70,51,24,30,66,48,36,42,61,39,87,73,48,46]\n",
    "                 })"
   ]
  },
  {
   "cell_type": "code",
   "execution_count": 5,
   "id": "b27a7236-90cf-45a9-adfb-57ed9bec9923",
   "metadata": {},
   "outputs": [
    {
     "data": {
      "text/plain": [
       "array([56, 70, 51, 24, 30, 66, 48, 36, 42, 61, 39, 87, 73, 48, 46])"
      ]
     },
     "execution_count": 5,
     "metadata": {},
     "output_type": "execute_result"
    }
   ],
   "source": [
    "y = np.array(df.score.values)\n",
    "y"
   ]
  },
  {
   "cell_type": "markdown",
   "id": "3e0d8d22-9714-4d7f-9584-35b539364437",
   "metadata": {},
   "source": [
    "Instead of creaeting a model , for the demostration purpose we are having and equation which can predict the y value\n"
   ]
  },
  {
   "cell_type": "code",
   "execution_count": 7,
   "id": "1b42b028-471e-4f38-9367-3883ad209ce6",
   "metadata": {},
   "outputs": [
    {
     "data": {
      "text/plain": [
       "array([49., 73., 57., 25., 45., 61., 65., 41., 57., 61., 49., 69., 57.,\n",
       "       37., 57.])"
      ]
     },
     "execution_count": 7,
     "metadata": {},
     "output_type": "execute_result"
    }
   ],
   "source": [
    "y_pred = 8 * df.hours.values-15\n",
    "y_pred"
   ]
  },
  {
   "cell_type": "markdown",
   "id": "4982e702-39ca-47e6-9ed1-d15df653b56b",
   "metadata": {},
   "source": [
    "MEAN ABSOULTE ERROR (MAE)"
   ]
  },
  {
   "cell_type": "code",
   "execution_count": 8,
   "id": "f0d3ec4a-ecef-4f95-80b6-51b17b86991c",
   "metadata": {},
   "outputs": [
    {
     "name": "stdout",
     "output_type": "stream",
     "text": [
      "Mean Absolute Error:9.333333333333334\n"
     ]
    }
   ],
   "source": [
    "from sklearn.metrics import mean_absolute_error\n",
    "mae=mean_absolute_error(y,y_pred)\n",
    "print(f\"Mean Absolute Error:{mae}\")"
   ]
  },
  {
   "cell_type": "markdown",
   "id": "05cf179f-a74f-4bcf-abf3-39a1af4218d9",
   "metadata": {},
   "source": [
    "ROOT MEAN SQUARED ERROR"
   ]
  },
  {
   "cell_type": "code",
   "execution_count": 10,
   "id": "dd778b9a-7e42-431d-89e6-6d59c9b8cb8d",
   "metadata": {},
   "outputs": [
    {
     "name": "stdout",
     "output_type": "stream",
     "text": [
      "Root Mean Squared Error:10.972693379476162\n"
     ]
    }
   ],
   "source": [
    "from sklearn.metrics import root_mean_squared_error\n",
    "\n",
    "rmse=root_mean_squared_error(y,y_pred)\n",
    "print(f\"Root Mean Squared Error:{rmse}\")\n"
   ]
  },
  {
   "cell_type": "markdown",
   "id": "1d8ebcc9-511c-4b3d-929e-7258d9b59e5a",
   "metadata": {},
   "source": [
    "R Squared"
   ]
  },
  {
   "cell_type": "code",
   "execution_count": 13,
   "id": "75859015-ae4c-45e5-9640-dffc5f52d8cf",
   "metadata": {},
   "outputs": [
    {
     "name": "stdout",
     "output_type": "stream",
     "text": [
      "R Squared Error:0.5642312518096708\n"
     ]
    }
   ],
   "source": [
    "from sklearn.metrics import r2_score\n",
    "r2=r2_score(y,y_pred)\n",
    "print(f\"R Squared Error:{r2}\")"
   ]
  },
  {
   "cell_type": "code",
   "execution_count": null,
   "id": "98a79d77-8768-4293-8968-ba4694f1848e",
   "metadata": {},
   "outputs": [],
   "source": []
  }
 ],
 "metadata": {
  "kernelspec": {
   "display_name": "Python [conda env:base] *",
   "language": "python",
   "name": "conda-base-py"
  },
  "language_info": {
   "codemirror_mode": {
    "name": "ipython",
    "version": 3
   },
   "file_extension": ".py",
   "mimetype": "text/x-python",
   "name": "python",
   "nbconvert_exporter": "python",
   "pygments_lexer": "ipython3",
   "version": "3.12.7"
  }
 },
 "nbformat": 4,
 "nbformat_minor": 5
}
